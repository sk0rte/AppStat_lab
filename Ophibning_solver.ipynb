{
 "cells": [
  {
   "cell_type": "code",
   "execution_count": 5,
   "id": "3b17230e",
   "metadata": {},
   "outputs": [],
   "source": [
    "import sympy as sp\n",
    "import numpy as np"
   ]
  },
  {
   "cell_type": "code",
   "execution_count": 8,
   "id": "389f27c0",
   "metadata": {},
   "outputs": [],
   "source": [
    "def ophob(expr, var, values, cov):\n",
    "    varians = 0\n",
    "    \n",
    "    for i in range(len(var)):\n",
    "        for j in range(len(var)):\n",
    "            varians += sp.diff(expr, var[i]) * sp.diff(expr, var[j]) * cov[i, j]\n",
    "    \n",
    "    sigma = sp.sqrt(varians)\n",
    "    \n",
    "    for i in range(len(var)):\n",
    "        sigma = sigma.subs(var[i], values[i])\n",
    "    \n",
    "    return sigma.evalf()"
   ]
  },
  {
   "cell_type": "code",
   "execution_count": 11,
   "id": "9f87aa4c",
   "metadata": {},
   "outputs": [
    {
     "name": "stdout",
     "output_type": "stream",
     "text": [
      "2.45086171230367\n"
     ]
    }
   ],
   "source": [
    "x = sp.Symbol(\"x\")\n",
    "y = sp.Symbol(\"y\")\n",
    "expr = sp.cos(x) + sp.atan(x ** 2 * sp.sin(y))\n",
    "var = np.array([x, y])\n",
    "values = np.array([2, 3])\n",
    "cov = np.array([[0.7, 0.1], [0.2, 0.6]])\n",
    "print(ophob(expr, var, values, cov))\n"
   ]
  },
  {
   "cell_type": "code",
   "execution_count": 12,
   "id": "e2bc9215",
   "metadata": {},
   "outputs": [
    {
     "data": {
      "text/plain": [
       "array([], dtype=float64)"
      ]
     },
     "execution_count": 12,
     "metadata": {},
     "output_type": "execute_result"
    }
   ],
   "source": [
    "np.array([])"
   ]
  },
  {
   "cell_type": "code",
   "execution_count": null,
   "id": "2275ff27",
   "metadata": {},
   "outputs": [],
   "source": []
  }
 ],
 "metadata": {
  "kernelspec": {
   "display_name": "Python 3 (ipykernel)",
   "language": "python",
   "name": "python3"
  },
  "language_info": {
   "codemirror_mode": {
    "name": "ipython",
    "version": 3
   },
   "file_extension": ".py",
   "mimetype": "text/x-python",
   "name": "python",
   "nbconvert_exporter": "python",
   "pygments_lexer": "ipython3",
   "version": "3.9.13"
  }
 },
 "nbformat": 4,
 "nbformat_minor": 5
}
