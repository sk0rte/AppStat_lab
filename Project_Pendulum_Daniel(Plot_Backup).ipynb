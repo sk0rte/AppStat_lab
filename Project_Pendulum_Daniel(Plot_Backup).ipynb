{
 "cells": [
  {
   "cell_type": "code",
   "execution_count": 1,
   "metadata": {},
   "outputs": [],
   "source": [
    "#Importing Libraries\n",
    "import numpy as np\n",
    "import matplotlib.pyplot as plt\n",
    "from iminuit import Minuit\n",
    "import sys\n",
    "from scipy import stats\n",
    "%matplotlib inline\n",
    "\n",
    "#Problem specific libarires:\n",
    "import scipy.signal as sig\n",
    "import Pendulum_Module as pm\n",
    "\n",
    "sys.path.append('/Users/Daniel Fogh/Desktop/MAIN_(BU_25-07-22)/BSc_Samlet/3. Year/AppStat/AppStat_Code')\n",
    "from ExternalFunctions import Chi2Regression\n",
    "from ExternalFunctions import nice_string_output, add_text_to_ax"
   ]
  },
  {
   "cell_type": "markdown",
   "metadata": {},
   "source": [
    "Importing and partitioning data"
   ]
  },
  {
   "cell_type": "code",
   "execution_count": 2,
   "metadata": {},
   "outputs": [],
   "source": [
    "#Importing period data-files:\n",
    "names = ['chamilla', 'daniel', 'emil', 'julius', 'sejr']\n",
    "\n",
    "#Creating dictionary of all data (MIGHT NOT BE THE BEST WAY TO IMPORT THE DATA)\n",
    "N_dict={}\n",
    "t_dict={}\n",
    "\n",
    "for i, name in enumerate(names):\n",
    "    data = np.genfromtxt(str(name)+'.dat', delimiter='', skip_header=0, skip_footer=0, dtype=float)\n",
    "    N, t = data[:, 0], data[:, 1]\n",
    "    N, t = N[N<26], t[N<26] #Including only the 25 first measurements                                   \n",
    "    N_dict[\"{0}\".format(i+1)] = N\n",
    "    t_dict[\"{0}\".format(i+1)] = t"
   ]
  },
  {
   "cell_type": "code",
   "execution_count": 3,
   "metadata": {},
   "outputs": [],
   "source": [
    "#Length data\n",
    "#Combined mesurements before and after the experiment, to account for string-stretching\n",
    "l_data = np.array([182.1, 183.6, 182.2, 186.6, 183.6, 183.9, 182.1, 182.9, 182.4, 182.6])*1E-2  #SI conversion factor, measured in cm\n",
    "h_data = np.array([60.7, 61.0, 61.6, 61.4, 61.5])*(1E-3/2)  #measured in mm, divided by 2 as we measured diameter\n",
    "ls_data = np.array([0.5, 0.5, 0.5, 0.5, 0.8, 1.0, 0.3, 0.5, 0.5, 0.5])*1E-3  #measured in mm\n",
    "hs_data = np.array([0.05, 0.05, 0.05, 0.05, 0.05])*(1E-3/2)   #measured in mm, divided by 2 as we measured diameter\n",
    "\n",
    "#NOTE: I've not included Length measurements done with the old hierloom ruler."
   ]
  },
  {
   "cell_type": "markdown",
   "metadata": {},
   "source": [
    "Combining measurements to get $L\\pm \\sigma_L$ for entire group. Since $l$ and $h$ measurement-arrays don't have same size, we take the weighted mean of all measurements first and then calculate $L$. If $\\chi^2$ is very big, $p$ will be very small, and this indicates our uncertainties are waaay underestimated. for $l$, only multiplying our errors by a factor 40 brought the values up to a acceptable level."
   ]
  },
  {
   "cell_type": "code",
   "execution_count": 4,
   "metadata": {},
   "outputs": [
    {
     "name": "stdout",
     "output_type": "stream",
     "text": [
      "l weighted 1.8293851024829197 0.00015490642551732828 [7141.4932511248035, 0.0]\n",
      "h weighted 0.03062 1.1180339887498949e-05 [228.79999999999933, 2.392858838371131e-48]\n",
      "L = 1.8600051024829198 0.00015530937082660392\n"
     ]
    }
   ],
   "source": [
    "#Performing weighted means:\n",
    "l, l_err, *l_chi = pm.wmean(l_data, ls_data)\n",
    "h, h_err, *h_chi = pm.wmean(h_data, hs_data)\n",
    "\n",
    "L = l+h\n",
    "L_err = np.sqrt(l_err**2 + h_err**2) #By error-propagation\n",
    "\n",
    "print('l weighted', l, l_err, l_chi)\n",
    "print('h weighted', h, h_err, h_chi)\n",
    "print('L =', L, L_err)"
   ]
  },
  {
   "cell_type": "markdown",
   "metadata": {},
   "source": [
    "    Comment: Error on L seems way to low."
   ]
  },
  {
   "cell_type": "markdown",
   "metadata": {},
   "source": [
    "Finding the period through fitting; this procedure is to be repeated seperately for each of the 5 measurement-series. Afterwards, the 5 estimates gets combined through a weighted mean to a single measurement $T\\pm\\sigma_T$ to be used to find $g$.\n",
    "\n",
    "    Comment: (N,t) data-files do not start at the same time!"
   ]
  },
  {
   "cell_type": "code",
   "execution_count": 5,
   "metadata": {},
   "outputs": [],
   "source": [
    "#We can make this into a loop later, first we just play around with the first dataset:\n",
    "N, t = N_dict['1'], t_dict['1']"
   ]
  },
  {
   "cell_type": "code",
   "execution_count": 6,
   "metadata": {},
   "outputs": [
    {
     "name": "stdout",
     "output_type": "stream",
     "text": [
      "Fit value: T = 2.7350 +/- 0.0277\n",
      "Fit value: t0 = 94.5125 +/- 0.4123\n",
      "\n",
      "Prob(Chi2 = 0.1, Ndof = 23) = 1.0000\n",
      "T 2.7350220000002743 0.02773501037026221\n"
     ]
    }
   ],
   "source": [
    "#Defining fitting function.\n",
    "def T_func(N,T,t0):\n",
    "    return T*N+t0\n",
    "\n",
    "#Define chi2 \n",
    "def chi2_T(N,t,ts,T,t0) : #Note: must not be a function of x\n",
    "    y_fit = T_func(N,T,t0)\n",
    "    chi2 = np.sum(((t - y_fit) / ts)**2)\n",
    "    return chi2\n",
    "\n",
    "#First time around, we just assign some random error to each data-point\n",
    "ts=1\n",
    "\n",
    "#Define a object to minimze\n",
    "miniobj = lambda T,t0: chi2_T(N,t,ts,T,t0)\n",
    "\n",
    "#Fitting\n",
    "miniobj.errordef = Minuit.LEAST_SQUARES\n",
    "minuit_fit1 = Minuit(miniobj, T=7, t0=10)     \n",
    "minuit_fit1.migrad()                            \n",
    "\n",
    "#Extracting fit-parameters:\n",
    "pm.printnice(minuit_fit1, N)\n",
    "\n",
    "print(minuit_fit1.parameters[0], minuit_fit1.values[0], minuit_fit1.errors[0])"
   ]
  },
  {
   "cell_type": "code",
   "execution_count": 39,
   "metadata": {},
   "outputs": [
    {
     "data": {
      "image/png": "[encoded data removed]",
      "text/plain": [
       "<Figure size 432x288 with 1 Axes>"
      ]
     },
     "metadata": {
      "needs_background": "light"
     },
     "output_type": "display_data"
    }
   ],
   "source": [
    "#Calculating residuals:\n",
    "t_fit = T_func(N, *minuit_fit1.values) #Calculating expected times according to previous fit\n",
    "res = t-t_fit                          #Calculating residuals\n",
    "\n",
    "#Extracting data-points with error-bars from binned data, so we can fit a gaussian to residuals\n",
    "xmin, xmax = min(res), max(res)\n",
    "counts, bin_edges = np.histogram(res, bins=6,  range=(xmin,xmax), density=False)\n",
    "res_x = 0.5*(bin_edges[:-1] + bin_edges[1:])[counts>0] \n",
    "res_y = counts[counts>0]       \n",
    "res_sx = (bin_edges[1]-bin_edges[0])*0.5 #The binwidth\n",
    "res_sy = np.sqrt(res_y) #Poisson error\n",
    "\n",
    "#Plotting (Just for checking)\n",
    "\n",
    "\n",
    "\n",
    "plt.figure()\n",
    "plt.hist(res, bins=6, range=(xmin, xmax), histtype='step')\n",
    "plt.errorbar(res_x, res_y, yerr=res_sy, xerr=res_sx, fmt='.', color='k', ms=8)\n",
    "plt.xlim(-0.2,0.2)\n",
    "plt.show()"
   ]
  },
  {
   "cell_type": "code",
   "execution_count": 15,
   "metadata": {},
   "outputs": [
    {
     "name": "stdout",
     "output_type": "stream",
     "text": [
      "Fit value: A = 1.2644 +/- 0.3133\n",
      "Fit value: mu = -0.0177 +/- 0.0225\n",
      "Fit value: sigma = 0.0754 +/- 0.0235\n",
      "\n",
      "Prob(Chi2 = 0.5, Ndof = 3) = 0.9124\n",
      "this is the error on each datapoint 0.07540013773892339\n"
     ]
    }
   ],
   "source": [
    "#Fitting a gaussian to the residual-histogram\n",
    "#Define fitting model\n",
    "def gauss(x, A, mu, sigma):\n",
    "    z = (x - mu) / sigma\n",
    "    return A*(np.sqrt(2*np.pi)*sigma)**(-1) * np.exp(-0.5 * z**2)\n",
    "\n",
    "def chi2_gauss(x, y, sy, A, mu, sigma) :\n",
    "    y_fit = gauss(x, A, mu, sigma)\n",
    "    chi2 = np.sum(((y - y_fit) / sy)**2)\n",
    "    return chi2\n",
    "\n",
    "\n",
    "#Define a object to minimze\n",
    "miniobj2 = lambda A, mu, sigma: chi2_gauss(res_x, res_y, res_sy, A, mu, sigma)\n",
    "\n",
    "#Fitting\n",
    "miniobj2.errordef = Minuit.LEAST_SQUARES\n",
    "minuit_fit2 = Minuit(miniobj2, A=0.5, mu=0.0, sigma=0.02)     #Setup of init. values\n",
    "minuit_fit2.migrad()       \n",
    "\n",
    "#Extracting fit-parameters:\n",
    "pm.printnice(minuit_fit2, res_x)\n",
    "\n",
    "print('this is the error on each datapoint',minuit_fit2.values[2])"
   ]
  },
  {
   "cell_type": "code",
   "execution_count": 24,
   "metadata": {},
   "outputs": [
    {
     "data": {
      "text/plain": [
       "(-0.2, 0.2)"
      ]
     },
     "execution_count": 24,
     "metadata": {},
     "output_type": "execute_result"
    },
    {
     "data": {
      "image/png": "[encoded data removed]",
      "text/plain": [
       "<Figure size 396x360 with 1 Axes>"
      ]
     },
     "metadata": {
      "needs_background": "light"
     },
     "output_type": "display_data"
    }
   ],
   "source": [
    "#Plotting our fit just to double-check\n",
    "xmin, xmax = min(res_x), max(res_x)\n",
    "res_x_fit = np.linspace(xmin-1, xmax+1, 500)\n",
    "res_y_fit = gauss(res_x_fit, *minuit_fit2.values)\n",
    "\n",
    "fig, ax = plt.subplots(figsize=(5.5,5))\n",
    "plt.errorbar(res_x, res_y , yerr=res_sy, xerr=res_sx, fmt='k.', elinewidth=1.2, ms=8)\n",
    "plt.plot(res_x_fit, res_y_fit, c='b', lw=1.4)\n",
    "plt.xlim(-0.2,0.2)"
   ]
  },
  {
   "cell_type": "code",
   "execution_count": 26,
   "metadata": {},
   "outputs": [
    {
     "name": "stdout",
     "output_type": "stream",
     "text": [
      "Fit value: T = 2.7350 +/- 0.0021\n",
      "Fit value: t0 = 94.5125 +/- 0.0311\n",
      "\n",
      "Prob(Chi2 = 17.8, Ndof = 23) = 0.7657\n",
      "T 2.7350219999987226 0.002091223353001082\n"
     ]
    }
   ],
   "source": [
    "#Performing period-fit again, but with new uncertanties:\n",
    "ts = minuit_fit2.values[2]\n",
    "miniobj3 = lambda T,t0: chi2_T(N,t,ts,T,t0)\n",
    "miniobj3.errordef = Minuit.LEAST_SQUARES\n",
    "minuit_fit3 = Minuit(miniobj3, T=7, t0=10)     \n",
    "minuit_fit3.migrad()                            \n",
    "\n",
    "#Extracting fit-parameters:\n",
    "pm.printnice(minuit_fit3, N)\n",
    "print(minuit_fit3.parameters[0], minuit_fit3.values[0], minuit_fit3.errors[0])"
   ]
  },
  {
   "cell_type": "markdown",
   "metadata": {},
   "source": [
    "### FANCY PLOT (FOR THE PAPER)"
   ]
  },
  {
   "cell_type": "code",
   "execution_count": 109,
   "metadata": {},
   "outputs": [
    {
     "name": "stderr",
     "output_type": "stream",
     "text": [
      "The PostScript backend does not support transparency; partially transparent artists will be rendered opaque.\n",
      "The PostScript backend does not support transparency; partially transparent artists will be rendered opaque.\n"
     ]
    },
    {
     "data": {
      "image/png": "[encoded data removed]",
      "text/plain": [
       "<Figure size 648x432 with 2 Axes>"
      ]
     },
     "metadata": {
      "needs_background": "light"
     },
     "output_type": "display_data"
    }
   ],
   "source": [
    "#Producing residuals\n",
    "x_fit = np.linspace(0, 25, 500)\n",
    "y_fit = T_func(x_fit, *minuit_fit3.values)\n",
    "y_res = t-T_func(N, *minuit_fit3.values) #Notice we use x and not x_fit\n",
    "\n",
    "#Figure\n",
    "fig,ax=plt.subplots(2, 1, gridspec_kw={'height_ratios': [4, 1]},figsize=(9,6), sharex=True) #Producing two plots in the right size\n",
    "\n",
    "#Fitplot\n",
    "ax[0].errorbar(N, t , yerr=ts, fmt='k.', elinewidth=1.2, ms=9, label=r'($N,t$) series 1') #Use Zorder\n",
    "ax[0].plot(x_fit, y_fit, label='Lin. fit', c='r', lw=1.2)\n",
    "ax[0].set_ylabel(r'$t_{elapsed} \\; [s]$',fontsize=20)\n",
    "ax[0].legend(fontsize=16,loc=\"upper left\")\n",
    "fig.text(0.5, 0.06,r'$N_{cycles}$', ha='center', va='center', fontsize=20)\n",
    "\n",
    "#Residualplot\n",
    "ax[1].plot(N, y_res,'.', color='k', markersize=8,zorder=10)\n",
    "ax[1].set_ylabel(r'$res(t) \\; [s]$',fontsize=20)\n",
    "ax[1].axhline(y=0, color='gray', linestyle='-')\n",
    "\n",
    "\n",
    "#Dictionary for plottingparameters (Has to be done manually to be pretty; values can be added in manually aswell)\n",
    "Chi2_value = minuit_fit3.fval\n",
    "Ndof = len(N) - len(minuit_fit3.values[:])\n",
    "Chi2_prob = stats.chi2.sf(Chi2_value, Ndof)\n",
    "\n",
    "d = {r'$\\chi^2$':       Chi2_value,\n",
    "     r'$N_{DoF}$':      Ndof,\n",
    "     r'$P(\\chi^2)$':    Chi2_prob}\n",
    "\n",
    "text = nice_string_output(d, extra_spacing=1, decimals=3) #A library-function from \"External-functions\"\n",
    "plt.text(0.45, 0.98, text, fontsize=14, ha='center', va='top', transform=ax[0].transAxes) #First two numbers are relative locations\n",
    "plt.text(-0.45,1.0,r'$T=(2.735 \\pm 0.002) s$',fontsize=17, c='darkgreen')\n",
    "plt.text(-0.45,0.85,r'$\\sigma_{res(t)}=0.07 s$', fontsize=17, c='darkgreen')\n",
    "\n",
    "\n",
    "from mpl_toolkits.axes_grid1.inset_locator import inset_axes\n",
    "\n",
    "ax1=ax[0].inset_axes(bounds = [0.68, 0.15, 0.3, 0.45])\n",
    "ax1.errorbar(res_x, res_y , yerr=res_sy,xerr=res_sx, fmt='k.', elinewidth=1.2, ms=8)\n",
    "ax1.plot(res_x_fit, res_y_fit, c='b', lw=1.4)\n",
    "ax1.set_xlabel(r'$res(t)$ [s]', fontsize=12)\n",
    "ax1.set_ylabel('Frequency',fontsize=12)\n",
    "ax1.set_title(r'$t$-residual distribution')\n",
    "ax1.set_xlim(-0.2,0.2)\n",
    "\n",
    "plt.savefig('PeriodMoneyPlot.eps')\n",
    "plt.show()"
   ]
  },
  {
   "cell_type": "code",
   "execution_count": null,
   "metadata": {},
   "outputs": [],
   "source": []
  }
 ],
 "metadata": {
  "kernelspec": {
   "display_name": "Python 3.8.8 ('base')",
   "language": "python",
   "name": "python3"
  },
  "language_info": {
   "codemirror_mode": {
    "name": "ipython",
    "version": 3
   },
   "file_extension": ".py",
   "mimetype": "text/x-python",
   "name": "python",
   "nbconvert_exporter": "python",
   "pygments_lexer": "ipython3",
   "version": "3.8.8"
  },
  "orig_nbformat": 4,
  "vscode": {
   "interpreter": {
    "hash": "16c3c5ed1b31d1e072bf70199017199b2673bf50ceb35f0c4b4cd4c3eb400e55"
   }
  }
 },
 "nbformat": 4,
 "nbformat_minor": 2
}
