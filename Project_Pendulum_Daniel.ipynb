{
 "cells": [
  {
   "cell_type": "code",
   "execution_count": 1,
   "metadata": {},
   "outputs": [],
   "source": [
    "#Importing Libraries\n",
    "import numpy as np\n",
    "import matplotlib.pyplot as plt\n",
    "from iminuit import Minuit\n",
    "import sys\n",
    "from scipy import stats\n",
    "%matplotlib inline\n",
    "\n",
    "#Problem specific libarires:\n",
    "import scipy.signal as sig"
   ]
  },
  {
   "cell_type": "code",
   "execution_count": 8,
   "metadata": {},
   "outputs": [
    {
     "data": {
      "text/plain": [
       "(Text(0.5, 0, 'N'), Text(0, 0.5, 't'))"
      ]
     },
     "execution_count": 8,
     "metadata": {},
     "output_type": "execute_result"
    },
    {
     "data": {
      "image/png": "[encoded data removed]",
      "text/plain": [
       "<Figure size 432x288 with 1 Axes>"
      ]
     },
     "metadata": {
      "needs_background": "light"
     },
     "output_type": "display_data"
    }
   ],
   "source": [
    "#Importing data-files:\n",
    "data1 = np.genfromtxt('data_times_Alice_pendulum14m_25measurements.dat', delimiter='', skip_header=0, skip_footer=0, dtype=float)\n",
    "data2 = np.genfromtxt('data_times_Bob_pendulum14m_25measurements.dat', delimiter='', skip_header=0, skip_footer=0, dtype=float)\n",
    "\n",
    "N_a, t_a = data1[:, 0], data1[:, 1]\n",
    "N_b, t_b = data2[:, 0], data2[:, 1]\n",
    "\n",
    "plt.plot(N_a, t_a, 'r+')\n",
    "plt.plot(N_b, t_b, 'bx')\n",
    "plt.xlabel('N'), plt.ylabel('t')"
   ]
  },
  {
   "cell_type": "code",
   "execution_count": null,
   "metadata": {},
   "outputs": [],
   "source": [
    "#Linear time-fit:\n",
    "def T_func(N,T):\n",
    "    return T*N\n",
    "    "
   ]
  }
 ],
 "metadata": {
  "kernelspec": {
   "display_name": "Python 3.8.8 ('base')",
   "language": "python",
   "name": "python3"
  },
  "language_info": {
   "codemirror_mode": {
    "name": "ipython",
    "version": 3
   },
   "file_extension": ".py",
   "mimetype": "text/x-python",
   "name": "python",
   "nbconvert_exporter": "python",
   "pygments_lexer": "ipython3",
   "version": "3.8.8"
  },
  "orig_nbformat": 4,
  "vscode": {
   "interpreter": {
    "hash": "16c3c5ed1b31d1e072bf70199017199b2673bf50ceb35f0c4b4cd4c3eb400e55"
   }
  }
 },
 "nbformat": 4,
 "nbformat_minor": 2
}
