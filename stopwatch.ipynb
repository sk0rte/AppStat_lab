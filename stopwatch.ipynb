{
 "cells": [
  {
   "cell_type": "code",
   "execution_count": 1,
   "metadata": {},
   "outputs": [],
   "source": [
    "from time import time\n",
    "import os, sys"
   ]
  },
  {
   "cell_type": "code",
   "execution_count": null,
   "metadata": {},
   "outputs": [
    {
     "name": "stdout",
     "output_type": "stream",
     "text": [
      "The file  timer_output.dat  already exists in this directory.\n"
     ]
    }
   ],
   "source": [
    "name = \"timer_output.dat\"\n",
    "\n",
    "n = 0\n",
    "while (os.path.isfile(name)):\n",
    "    print(\"The file \",name,\" already exists in this directory.\")\n",
    "    name = input(\"Please enter a new name for your output file: \")\n",
    "    \n",
    "newname = name"
   ]
  },
  {
   "cell_type": "code",
   "execution_count": null,
   "metadata": {},
   "outputs": [],
   "source": [
    "# Make some check about the string entered\n",
    "if len(newname) == 0:\n",
    "    good_name = False\n",
    "else:\n",
    "    good_name = (newname[0].isalpha())*(newname.endswith(\".dat\"))\n",
    "    \n",
    "while n < 5 and (not good_name):\n",
    "    newname = input(\"Name must end with .dat and first character must be a letter: \")\n",
    "    n += 1\n",
    "    if len(newname) == 0:\n",
    "        newname = input(\"Name must not be empty: \")\n",
    "        n += 1\n",
    "        continue\n",
    "    else:\n",
    "        good_name = (newname[0].isalpha())*(newname.endswith(\".dat\"))\n",
    "            \n",
    "if not good_name:\n",
    "    sys.exit(\"ERROR: Filename does not fulfill basic requirements.\")\n",
    "else:\n",
    "    name = newname"
   ]
  },
  {
   "cell_type": "code",
   "execution_count": null,
   "metadata": {},
   "outputs": [],
   "source": [
    "with open(name, \"w\") as outfile : \n",
    "    now = time()\n",
    "    laptime = 0.0\n",
    "    counter = 0\n",
    "    while( input( \"%4d \\t %10.4f \\t Laptime by enter, Exit by key+enter \\t\"%(counter, laptime) ) is \"\" ) : \n",
    "        counter += 1\n",
    "        laptime = time()-now\n",
    "        outfile.write(\"%4d \\t %10.4f \\n\"%(counter, laptime))\n",
    "        \n",
    "    print(\"Done.\")"
   ]
  },
  {
   "cell_type": "code",
   "execution_count": null,
   "metadata": {},
   "outputs": [],
   "source": []
  }
 ],
 "metadata": {
  "kernelspec": {
   "display_name": "Python 3",
   "language": "python",
   "name": "python3"
  },
  "language_info": {
   "codemirror_mode": {
    "name": "ipython",
    "version": 3
   },
   "file_extension": ".py",
   "mimetype": "text/x-python",
   "name": "python",
   "nbconvert_exporter": "python",
   "pygments_lexer": "ipython3",
   "version": "3.8.3"
  }
 },
 "nbformat": 4,
 "nbformat_minor": 4
}
