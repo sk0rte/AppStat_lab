{
 "cells": [
  {
   "cell_type": "markdown",
   "metadata": {},
   "source": [
    "## Experiment 1: Simple pendulum with a mass at the end"
   ]
  },
  {
   "cell_type": "code",
   "execution_count": 1,
   "metadata": {},
   "outputs": [
    {
     "ename": "ModuleNotFoundError",
     "evalue": "No module named 'ExternalFunctions'",
     "output_type": "error",
     "traceback": [
      "\u001b[0;31m---------------------------------------------------------------------------\u001b[0m",
      "\u001b[0;31mModuleNotFoundError\u001b[0m                       Traceback (most recent call last)",
      "\u001b[0;32m<ipython-input-1-89e14aad74de>\u001b[0m in \u001b[0;36m<module>\u001b[0;34m\u001b[0m\n\u001b[1;32m     11\u001b[0m \u001b[0;34m\u001b[0m\u001b[0m\n\u001b[1;32m     12\u001b[0m \u001b[0msys\u001b[0m\u001b[0;34m.\u001b[0m\u001b[0mpath\u001b[0m\u001b[0;34m.\u001b[0m\u001b[0mappend\u001b[0m\u001b[0;34m(\u001b[0m\u001b[0;34m'/Users/Chamilla Terp/Dropbox/Skole/År 3/Applied Statistics/Assignments/Project/AppStatLab_GitHub'\u001b[0m\u001b[0;34m)\u001b[0m\u001b[0;34m\u001b[0m\u001b[0;34m\u001b[0m\u001b[0m\n\u001b[0;32m---> 13\u001b[0;31m \u001b[0;32mfrom\u001b[0m \u001b[0mExternalFunctions\u001b[0m \u001b[0;32mimport\u001b[0m \u001b[0mChi2Regression\u001b[0m\u001b[0;34m\u001b[0m\u001b[0;34m\u001b[0m\u001b[0m\n\u001b[0m\u001b[1;32m     14\u001b[0m \u001b[0;32mfrom\u001b[0m \u001b[0mExternalFunctions\u001b[0m \u001b[0;32mimport\u001b[0m \u001b[0mnice_string_output\u001b[0m\u001b[0;34m,\u001b[0m \u001b[0madd_text_to_ax\u001b[0m\u001b[0;34m\u001b[0m\u001b[0;34m\u001b[0m\u001b[0m\n",
      "\u001b[0;31mModuleNotFoundError\u001b[0m: No module named 'ExternalFunctions'"
     ]
    }
   ],
   "source": [
    "import numpy as np\n",
    "import matplotlib.pyplot as plt\n",
    "from iminuit import Minuit, describe\n",
    "import sys\n",
    "from scipy import stats\n",
    "%matplotlib inline\n",
    "\n",
    "# Problem specific libarires:\n",
    "import scipy.signal as sig\n",
    "import pendulum as pm\n",
    "\n",
    "sys.path.append('/Users/Chamilla Terp/Dropbox/Skole/År 3/Applied Statistics/Assignments/Project/AppStatLab_GitHub')\n",
    "from ExternalFunctions import Chi2Regression\n",
    "from ExternalFunctions import nice_string_output, add_text_to_ax"
   ]
  },
  {
   "cell_type": "markdown",
   "metadata": {},
   "source": [
    "#### Theory\n",
    "We want to determine the gravitational acceleration: $g = L\\left( \\frac{2\\pi}{T} \\right) ^{2}$. Here we have uncertanties on both $L$ and $T$, so our law of error probagation becomes us: $\\sigma_{g} = \\sqrt{ \\left( \\frac{\\partial g}{\\partial L} \\right) ^{2}\\sigma_{L}^{2} + \\left( \\frac{\\partial g}{\\partial T} \\right) ^{2}\\sigma_{T}^{2}} = \\sqrt{ \\left( \\frac{2 \\pi}{T} \\right) ^{2} \\sigma_{L}^{2} + \\left( -\\frac{8\\pi^{2} L}{T^{3}} \\right) ^{2} \\sigma_{T}^{2} }$"
   ]
  },
  {
   "cell_type": "code",
   "execution_count": 2,
   "metadata": {},
   "outputs": [],
   "source": [
    "# Importing period data-files:\n",
    "names = ['chamilla', 'daniel', 'emil', 'julius', 'sejr']\n",
    "\n",
    "# Creating dictionary of all data \n",
    "N_dict = {}\n",
    "t_dict = {}\n",
    "\n",
    "for i, name in enumerate(names):\n",
    "    data = np.genfromtxt(str(name)+'.dat', delimiter = '', skip_header = 0, skip_footer = 0, dtype = float)\n",
    "    N, t = data[:,0], data[:,1]\n",
    "    N, t = N[N < 26], t[N < 26] # Including only the 25 first measurements                                   \n",
    "    N_dict[\"{0}\".format(i+1)] = N\n",
    "    t_dict[\"{0}\".format(i+1)] = t"
   ]
  },
  {
   "cell_type": "code",
   "execution_count": null,
   "metadata": {},
   "outputs": [],
   "source": []
  },
  {
   "cell_type": "code",
   "execution_count": null,
   "metadata": {},
   "outputs": [],
   "source": []
  },
  {
   "cell_type": "code",
   "execution_count": null,
   "metadata": {},
   "outputs": [],
   "source": []
  },
  {
   "cell_type": "code",
   "execution_count": null,
   "metadata": {},
   "outputs": [],
   "source": []
  },
  {
   "cell_type": "code",
   "execution_count": null,
   "metadata": {},
   "outputs": [],
   "source": []
  },
  {
   "cell_type": "code",
   "execution_count": null,
   "metadata": {},
   "outputs": [],
   "source": []
  },
  {
   "cell_type": "code",
   "execution_count": null,
   "metadata": {},
   "outputs": [],
   "source": []
  },
  {
   "cell_type": "code",
   "execution_count": null,
   "metadata": {},
   "outputs": [],
   "source": []
  }
 ],
 "metadata": {
  "kernelspec": {
   "display_name": "Python 3",
   "language": "python",
   "name": "python3"
  },
  "language_info": {
   "codemirror_mode": {
    "name": "ipython",
    "version": 3
   },
   "file_extension": ".py",
   "mimetype": "text/x-python",
   "name": "python",
   "nbconvert_exporter": "python",
   "pygments_lexer": "ipython3",
   "version": "3.8.3"
  }
 },
 "nbformat": 4,
 "nbformat_minor": 4
}
