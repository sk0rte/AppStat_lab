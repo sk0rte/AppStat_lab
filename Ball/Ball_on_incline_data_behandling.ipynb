{
 "cells": [
  {
   "cell_type": "code",
   "execution_count": 1,
   "id": "fe5ec13b",
   "metadata": {},
   "outputs": [],
   "source": [
    "import numpy as np                                     # Matlab like syntax for linear algebra and functions\n",
    "import matplotlib.pyplot as plt                        # Plots and figures like you know them from Matlab\n",
    "import seaborn as sns                                  # Make the plots nicer to look at\n",
    "from iminuit import Minuit                             # The actual fitting tool, better than scipy's\n",
    "import sys                                             # Module to see files and folders in directories\n",
    "from scipy import stats"
   ]
  },
  {
   "cell_type": "code",
   "execution_count": 7,
   "id": "5431cf90",
   "metadata": {},
   "outputs": [],
   "source": [
    "sys.path.append('../')\n",
    "from ExternalFunctions import UnbinnedLH, BinnedLH, Chi2Regression\n",
    "from ExternalFunctions import nice_string_output, add_text_to_ax "
   ]
  },
  {
   "cell_type": "code",
   "execution_count": 11,
   "id": "d4de8513",
   "metadata": {},
   "outputs": [],
   "source": [
    "import os\n",
    "files = np.array([])\n",
    "for file in os.listdir(\"./Data\"):\n",
    "    if file.endswith(\".csv\"):\n",
    "        files = np.append(files, str(os.path.join(\"/Data\", file)))\n"
   ]
  },
  {
   "cell_type": "code",
   "execution_count": null,
   "id": "79d14e7c",
   "metadata": {},
   "outputs": [],
   "source": [
    "Data = np.zeros((len(files, 2, 10000)))\n",
    "name = np.array([])\n",
    "\n",
    "for i in range(len(files)):\n",
    "    Data[i] = np.genfromtxt(files[i])"
   ]
  }
 ],
 "metadata": {
  "kernelspec": {
   "display_name": "Python 3 (ipykernel)",
   "language": "python",
   "name": "python3"
  },
  "language_info": {
   "codemirror_mode": {
    "name": "ipython",
    "version": 3
   },
   "file_extension": ".py",
   "mimetype": "text/x-python",
   "name": "python",
   "nbconvert_exporter": "python",
   "pygments_lexer": "ipython3",
   "version": "3.9.13"
  }
 },
 "nbformat": 4,
 "nbformat_minor": 5
}
