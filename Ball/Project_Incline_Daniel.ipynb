{
 "cells": [
  {
   "cell_type": "code",
   "execution_count": 1,
   "metadata": {},
   "outputs": [],
   "source": [
    "# Importing Libraries\n",
    "import numpy as np\n",
    "import matplotlib.pyplot as plt\n",
    "from iminuit import Minuit\n",
    "import sys\n",
    "from scipy import stats\n",
    "%matplotlib inline\n",
    "\n",
    "# Problem specific libarires:\n",
    "import scipy.signal as sig\n",
    "import Incline_Module as im\n",
    "from ExternalFunctions import nice_string_output, add_text_to_ax"
   ]
  },
  {
   "cell_type": "markdown",
   "metadata": {},
   "source": [
    "### Data importing"
   ]
  },
  {
   "cell_type": "code",
   "execution_count": 2,
   "metadata": {},
   "outputs": [],
   "source": [
    "# Creating dictionaries:\n",
    "# RIGHT = NORMAL, LEFT = REVERSED\n",
    "t_right_dict = {} # NOTE: Time-data is measured in seconds\n",
    "V_right_dict = {}\n",
    "t_left_dict = {}\n",
    "V_left_dict = {}\n",
    "\n",
    "# Importing oscilloscope data:\n",
    "for i in range(5):\n",
    "    data_right = np.genfromtxt('forsøg'+str(i+1)+'_bigball_right.csv', delimiter = ',', skip_header = 15, dtype = float)\n",
    "    data_left = np.genfromtxt('forsøg'+str(i+1)+'_bigball_left.csv', delimiter = ',', skip_header = 15, dtype = float)\n",
    "    t_right, V_right = data_right[:,0], data_right[:,1]\n",
    "    t_left, V_left = data_left[:,0], data_left[:,1]                          \n",
    "    t_right_dict[i], V_right_dict[i] = t_right, V_right \n",
    "    t_left_dict[i], V_left_dict[i]= t_left, V_left\n",
    "\n",
    "# Gate positions\n",
    "# Order: Chamilla, Daniel, Emil, Sejr, Julius\n",
    "s_data = np.array([[130, 273, 416, 558, 700],\n",
    "                   [129, 271, 414, 556, 700],\n",
    "                   [129, 271, 415, 557, 700],\n",
    "                   [135, 276, 420, 562, 705],\n",
    "                   [130, 271, 416, 558, 701]]) * 1E-3 # Unit conversion mm -> m\n",
    "s_sigma = 4E-3 # 4 mm error on datapoints\n",
    "\n",
    "# Rail-width\n",
    "d_data = np.array([5.9, 6.0, 5.9, 5.8, 5.7]) * 1E-3\n",
    "d_sigma = 0.1E-3 # 0.1 mm error on datapoints\n",
    "\n",
    "# Ball diameter (BIG BALL):\n",
    "# Divided by two to get ball radius\n",
    "R_data = np.array([15.7, 15.8, 15.9, 15.9, 15.9]) * (1E-3/2)\n",
    "R_sigma = 0.05 * (1E-3) # 0.05mm equipment resolution (error on datapoints)\n",
    "\n",
    "# Angle measurements (GONIOMETER):\n",
    "# For(ward)/Back(ward) refer to goniometer orientation\n",
    "# Normal/reversed refer to setup orientation\n",
    "theta_gonio_for_norm = np.radians(np.array([74, 74, 76, 74.5, 74]))\n",
    "theta_gonio_back_norm = np.radians(np.array([76, 77.5, 75, 76.5, 76.5]))\n",
    "theta_gonio_for_rev = np.radians(np.array([77, 78, 77, 77, 75.5]))\n",
    "theta_gonio_back_rev = np.radians(np.array([75.5, 76, 74, 75, 76.5]))\n",
    "\n",
    "# Angle measurements (TRIGONOMERTY)\n",
    "# Hight measurement (modstoende katete)\n",
    "h_data = np.array([23.4, 23.75, 23.8, 23.8, 23.8])*1E-2\n",
    "\n",
    "# Base measurements (hosliggende katete)\n",
    "l_data = np.array([88.5, 88.5, 88.3, 88.3, 88.4])*1E-2 # Conversion cm -> m\n",
    "\n",
    "hl_sigma = 1E-3 # 1mm error on each data-point"
   ]
  },
  {
   "cell_type": "markdown",
   "metadata": {},
   "source": [
    "### $d$- and $R$-results"
   ]
  },
  {
   "cell_type": "code",
   "execution_count": 3,
   "metadata": {},
   "outputs": [
    {
     "name": "stdout",
     "output_type": "stream",
     "text": [
      "R results: 0.00792 4.000000000000036e-05\n",
      "d results: 0.005860000000000001 0.00010198039027185583\n"
     ]
    }
   ],
   "source": [
    "R = np.mean(R_data)\n",
    "R_err = np.std(R_data)\n",
    "\n",
    "d = np.mean(d_data)\n",
    "d_err = np.std(d_data)\n",
    "\n",
    "print('R results:', R, R_err)\n",
    "print('d results:', d, d_err)"
   ]
  },
  {
   "cell_type": "markdown",
   "metadata": {},
   "source": [
    "### Acceleration results\n",
    "For each experiment, we get two accelerations, $a_{norm} \\pm \\sigma_{a_{norm}}$ and $a_{rev} \\pm \\sigma_{a_{rev}}$. Each member theier measurements through a WM and a SEWM, and galculate the final $g$."
   ]
  },
  {
   "cell_type": "code",
   "execution_count": 4,
   "metadata": {},
   "outputs": [],
   "source": [
    "# Identifying peaks\n",
    "def peaks(t_side, V_side):\n",
    "    N = len(t_side)\n",
    "    t_data = {}\n",
    "    terr_data = {}\n",
    "    \n",
    "    for i in range(N):\n",
    "        t, V = t_side[i], V_side[i]\n",
    "        t_data[i], terr_data[i] = im.peak_finder(t, V, trigger_val = 3, plotting = False)\n",
    "        \n",
    "    return t_data, terr_data\n",
    "\n",
    "t_right, terr_right = peaks(t_right_dict, V_right_dict)\n",
    "t_left, terr_left = peaks(t_left_dict, V_left_dict)"
   ]
  },
  {
   "cell_type": "code",
   "execution_count": 5,
   "metadata": {},
   "outputs": [
    {
     "name": "stdout",
     "output_type": "stream",
     "text": [
      "Acceleration: 1.6878210572504297 +/- 0.06431016348758146\n",
      "Acceleration: 1.73738761902274 +/- 0.06739684042716636\n"
     ]
    }
   ],
   "source": [
    "# Fitting to parabola\n",
    "# Defining needed functions\n",
    "def s_func(t, s0, v0, a):\n",
    "    return s0 + v0*t + 0.5*a*(t**2)\n",
    "\n",
    "def chi2_s(t, s , serr, s0, v0, a): \n",
    "    s_fit = s_func(t, s0, v0, a)\n",
    "    chi2 = np.sum(((s - s_fit) / serr)**2)\n",
    "    return chi2\n",
    "\n",
    "Minuit.print_level = 0 \n",
    "\n",
    "def acceleration(t_data, s, s_sigma = 4E-3, v0 = 0, a = 2):\n",
    "\n",
    "    acc_array = []\n",
    "    aerr_array = []\n",
    "    a_chi2 = {}\n",
    "    a_p = {}\n",
    "    \n",
    "    N = len(t_data)\n",
    "    \n",
    "    for i in range(N):\n",
    "        # Define a object to minimze (coul create issues since s_sigma is not a np.array)\n",
    "        minimize_obj = lambda s0, v0, a: chi2_s(t_data[i], s[i], s_sigma, s0, v0, a) \n",
    "\n",
    "        # Fitting\n",
    "        minimize_obj.errordef = Minuit.LEAST_SQUARES\n",
    "        minuit_fit = Minuit(minimize_obj, s0 = s[i][0], v0 = v0, a = a)     \n",
    "        minuit_fit.migrad()                            \n",
    "\n",
    "        # Extracting and saving parameters:\n",
    "        params, errors, chi2, Ndof, chi2p = im.extract(minuit_fit, t_data[i], display = False)\n",
    "\n",
    "        acc_array.append(params[2]) \n",
    "        aerr_array.append(errors[2])\n",
    "        a_chi2[i] = chi2\n",
    "        a_p[i] = chi2p\n",
    "\n",
    "    acc_array, aerr_array = np.array(acc_array), np.array(aerr_array)\n",
    "    acc, aerr, *info = im.wmean(acc_array, aerr_array)\n",
    "    \n",
    "    print('Acceleration:', acc, '+/-', aerr)\n",
    "\n",
    "    return acc, aerr\n",
    "       \n",
    "acc_right, aerr_right = acceleration(t_right, s_data)  # Norm\n",
    "acc_left, aerr_left = acceleration(t_left, s_data)  # Rev"
   ]
  },
  {
   "cell_type": "markdown",
   "metadata": {},
   "source": [
    "## $\\theta$-calculation\n",
    "Procedure:\n",
    "\n",
    "* Estimate $\\Delta \\theta$ through goniometer measurements: $\\Delta \\theta = \\frac{\\theta_{gonio, norm}-\\theta_{gonio, rev}}{2}$\n",
    "* Estimate $\\Delta \\theta$ through trig measurements: $\\Delta \\theta = \\frac{a_{norm}-a_{rev}}{a_{norm}+a_{rev}} \\tan(\\theta_{trig})$\n",
    "* Take the mean and std of the two $\\Delta \\theta$, to get $\\Delta \\theta \\pm \\sigma_{\\Delta \\theta}$\n",
    "* Define $\\theta_{trig, norm} =\\theta_{trig} + \\Delta \\theta$ and $\\theta_{trig, rev} =\\theta_{trig} - \\Delta \\theta$. Get errors on them by error propagation\n",
    "* Combine $\\theta_{trig, norm}$ and $\\theta_{gonio, norm}$ (and likewise for the reversed direction) to get $\\theta_{total, norm} \\pm \\sigma_{\\theta_{total, norm}}$ (and likewise for the reversed direction)"
   ]
  },
  {
   "cell_type": "code",
   "execution_count": 6,
   "metadata": {},
   "outputs": [],
   "source": [
    "def theta_cal(theta_for, theta_back):\n",
    "    theta_gonio, thetaerr_gonio = [], []\n",
    "    \n",
    "    for i in range(5):\n",
    "        mu = np.mean([theta_for[i],theta_back[i]])\n",
    "        sigma = (1/np.sqrt(2)) * np.std([theta_for[i],theta_back[i]])\n",
    "\n",
    "        theta_gonio.append(mu)\n",
    "        thetaerr_gonio.append(sigma)\n",
    "    \n",
    "    theta_gonio, thetaerr_gonio = np.array(theta_gonio), np.array(thetaerr_gonio)\n",
    "    \n",
    "    return theta_gonio, thetaerr_gonio"
   ]
  },
  {
   "cell_type": "code",
   "execution_count": 7,
   "metadata": {},
   "outputs": [
    {
     "name": "stdout",
     "output_type": "stream",
     "text": [
      "Theta gonio (norm): [0.26179939 0.24870942 0.25307274 0.25307274 0.25743606] radians\n",
      "Theta gonio (norm) error: [0.01234134 0.02159735 0.00617067 0.01234134 0.01542668] radians\n",
      "\n",
      "\n",
      "Theta gonio (rev): [0.23998277 0.2268928  0.25307274 0.2443461  0.2443461 ] radians\n",
      "Theta gonio (rev) error: [0.00925601 0.01234134 0.01851201 0.01234134 0.00617067] radians\n",
      "\n",
      "\n",
      "Theta trig: [0.25849135 0.26218411 0.26327901 0.26327901 0.26299473] radians\n",
      "Theta trig error: [0.00039491 0.00040003 0.00040245 0.00040245 0.0004016 ] radians\n"
     ]
    }
   ],
   "source": [
    "# Theta norm (gonio)\n",
    "theta_gonio_norm, thetaerr_gonio_norm = theta_cal(theta_gonio_for_norm, theta_gonio_back_norm)\n",
    "print('Theta gonio (norm):', np.radians(90 - np.degrees(theta_gonio_norm)), 'radians')\n",
    "print('Theta gonio (norm) error:', thetaerr_gonio_norm, 'radians')\n",
    "\n",
    "print('')\n",
    "print('')\n",
    "\n",
    "# Theta rev (gonio)\n",
    "theta_gonio_rev, thetaerr_gonio_rev = theta_cal(theta_gonio_for_rev, theta_gonio_back_rev)\n",
    "print('Theta gonio (rev):', np.radians(90 - np.degrees(theta_gonio_rev)), 'radians')\n",
    "print('Theta gonio (rev) error:', thetaerr_gonio_rev, 'radians')\n",
    "\n",
    "print('')\n",
    "print('')\n",
    "\n",
    "theta_trig = np.arctan(h_data/l_data)\n",
    "theta_trig_err = np.sqrt( ((h_data / (h_data**2 + l_data**2))**2 * hl_sigma**2) + \n",
    "                          ((-h_data / (h_data**2 + l_data**2))**2 * hl_sigma**2) )\n",
    "print('Theta trig:', theta_trig, 'radians')\n",
    "print('Theta trig error:', theta_trig_err, 'radians')"
   ]
  },
  {
   "cell_type": "code",
   "execution_count": 27,
   "metadata": {},
   "outputs": [
    {
     "name": "stdout",
     "output_type": "stream",
     "text": [
      "Theta norm mean: (0.2545217288546663, 0.0046757802783652085, 0.5247832200609491, 0.9710439151486029)\n",
      "Theta norm mean (degrees): 14.583020857745483\n",
      "Theta norm mean error (degrees): 0.26790247588083166\n",
      "\n",
      "Theta rev mean: (0.241751686931647, 0.004303955423134274, 2.0810810810810754, 0.7208488544220821)\n",
      "Theta rev mean (degrees): 13.851351351351353\n",
      "Theta rev mean error (degrees): 0.2465984809580363\n",
      "\n",
      "Theta trig mean: (0.2620196560976413, 0.00017900065245660053, 105.47272884724931, 6.71670409339539e-22)\n",
      "Theta trig mean (degrees): 15.01262044386411\n",
      "Theta trig mean error (degrees): 0.010255981915851262\n"
     ]
    }
   ],
   "source": [
    "# Weighted mean\n",
    "theta_norm_mean = im.wmean(np.radians(90 - np.degrees(theta_gonio_norm)), thetaerr_gonio_norm)\n",
    "print('Theta norm mean:', theta_norm_mean)\n",
    "theta_norm_deg = theta_norm_mean[0]*(180/np.pi)\n",
    "print('Theta norm mean (degrees):', theta_norm_deg)\n",
    "theta_norm_err_deg = theta_norm_mean[1]*(180/np.pi)\n",
    "print('Theta norm mean error (degrees):', theta_norm_err_deg)\n",
    "\n",
    "print('')\n",
    "\n",
    "theta_rev_mean = im.wmean(np.radians(90 - np.degrees(theta_gonio_rev)), thetaerr_gonio_rev)\n",
    "print('Theta rev mean:', theta_rev_mean)\n",
    "theta_rev_deg = theta_rev_mean[0]*(180/np.pi)\n",
    "print('Theta rev mean (degrees):', theta_rev_deg)\n",
    "theta_rev_err_deg = theta_rev_mean[1]*(180/np.pi)\n",
    "print('Theta rev mean error (degrees):', theta_rev_err_deg)\n",
    "\n",
    "print('')\n",
    "\n",
    "theta_trig_mean = im.wmean(theta_trig, theta_trig_err)\n",
    "print('Theta trig mean:', theta_trig_mean)\n",
    "theta_trig_deg = theta_trig_mean[0]*(180/np.pi)\n",
    "print('Theta trig mean (degrees):',theta_trig_deg )\n",
    "print('Theta trig mean error (degrees):', theta_trig_mean[1]*(180/np.pi))"
   ]
  },
  {
   "cell_type": "code",
   "execution_count": 9,
   "metadata": {},
   "outputs": [
    {
     "name": "stdout",
     "output_type": "stream",
     "text": [
      "0.01207408724236154\n",
      "0.36583475319706515\n"
     ]
    }
   ],
   "source": [
    "# Estimating delta theta\n",
    "delta_theta_2 = ((acc_right - acc_left) / (acc_right + acc_left)) * np.tan(theta_trig_deg) \n",
    "print(delta_theta_2)\n",
    "\n",
    "delta_theta_1 = 1/2 * (theta_norm_deg - theta_rev_deg)\n",
    "print(delta_theta_1)"
   ]
  },
  {
   "cell_type": "markdown",
   "metadata": {},
   "source": [
    "## Calculation of $g$ (remember, we should get two different estimates, one for the reversed and one for the normal orientation)"
   ]
  },
  {
   "cell_type": "code",
   "execution_count": 10,
   "metadata": {},
   "outputs": [],
   "source": [
    "def gravity(a, theta, R, d):\n",
    "    g = (a / np.sin(theta)) * (1 + ((2/5) * (R**2 / (R**2 - (d/2)**2))))\n",
    "    return g\n",
    "\n",
    "def gravity_err(a, theta, R, d, a_err, theta_err, R_err, d_err):\n",
    "    g_err_2 = ((((1/np.sin(theta)) * (1 + (2/5) * (R**2) / R**2 - (d/2)**2)) * a_err)**2\n",
    "              + (((-a/(np.sin(theta))**2) * (1 + (2/5) * (R**2) / R**2 - (d/2)**2)) * np.cos(theta) * theta_err)**2 \n",
    "              + ((a/np.sin(theta)) * ((4/5) * (R**2) / R**2 - (d/2)**2)  - ((4/5) * (R**3) / (R**2 - (d/2)**2))**2  \n",
    "              * R_err)**2\n",
    "              +  (((a/np.sin(theta)) * (1 + (2/5) * (R**2)*d / (R**2 - (d/2)**2)**2)) * d_err)**2)\n",
    "    return g_err_2"
   ]
  },
  {
   "cell_type": "code",
   "execution_count": 29,
   "metadata": {},
   "outputs": [
    {
     "name": "stdout",
     "output_type": "stream",
     "text": [
      "g (norm): 9.810053929629168 +/- 2.3621397905396\n",
      "g (rev): 10.620291903049694 +/- 2.1421405658943136\n",
      "10.21517291633943\n"
     ]
    }
   ],
   "source": [
    "g_norm = gravity(acc_right, theta_norm_mean[0], R, d)\n",
    "g_norm_err = gravity_err(acc_right, theta_norm_deg, R, d, aerr_right, theta_norm_err_deg, R_err, d_err)\n",
    "print('g (norm):', g_norm, '+/-', g_norm_err)\n",
    "\n",
    "g_rev = gravity(acc_left, theta_rev_mean[0], R, d)\n",
    "g_rev_err = gravity_err(acc_left, theta_rev_deg, R, d, aerr_left, theta_rev_err_deg, R_err, d_err)\n",
    "print('g (rev):', g_rev, '+/-', g_rev_err)\n",
    "\n",
    "g = np.mean([g_norm, g_rev])\n",
    "print(g)"
   ]
  },
  {
   "cell_type": "markdown",
   "metadata": {},
   "source": [
    "___________________________________________\n",
    "#### Slam kode fra Daniel :))"
   ]
  },
  {
   "cell_type": "code",
   "execution_count": null,
   "metadata": {},
   "outputs": [],
   "source": [
    "N = len(t_right_dict)\n",
    "t_right = {}\n",
    "terr_right = {}\n",
    "\n",
    "for i in range(N):\n",
    "    t, V = t_right_dict[i], V_right_dict[i]\n",
    "    t_right[i], terr_right[i] = im.peak_finder(t, V, trigger_val = 3, plotting = False)\n",
    "    \n",
    "# Identifying peaks\n",
    "N = len(t_left_dict)\n",
    "t_left = {}\n",
    "terr_left = {}\n",
    "\n",
    "for i in range(N):\n",
    "    t, V = t_left_dict[i], V_left_dict[i]\n",
    "    t_left[i], terr_left[i] = im.peak_finder(t, V, trigger_val = 3, plotting = False)"
   ]
  },
  {
   "cell_type": "markdown",
   "metadata": {},
   "source": [
    "_________________________________\n",
    "#### Plotting"
   ]
  },
  {
   "cell_type": "code",
   "execution_count": null,
   "metadata": {},
   "outputs": [],
   "source": [
    "x_fit = np.linspace(0, 0.5, 500)\n",
    "y_fit = s_func(x_fit, *minuit_fit.values)\n",
    "\n",
    "Chi2_value = minuit_fit.fval\n",
    "Ndof = len(t_left[1]) - len(minuit_fit.values[:])\n",
    "Chi2_prob = stats.chi2.sf(Chi2_value, Ndof)\n",
    "\n",
    "d = {r'$\\chi^2$':       Chi2_value,\n",
    "     r'$N_{DoF}$':      Ndof,\n",
    "     r'$P(\\chi^2)$':    Chi2_prob}\n",
    "\n",
    "# Plotting\n",
    "fig,ax = plt.subplots(1, 1, figsize = (9,6))\n",
    "\n",
    "# Nice text\n",
    "text = nice_string_output(d, extra_spacing = 1, decimals = 3)\n",
    "plt.text(0.35, 0.98, text, fontsize = 14, ha = 'center', va = 'top', transform = ax.transAxes)\n",
    "plt.text(0.009,0.5,r'$a=(XXX) \\frac{m}{s}$',fontsize = 17, c = 'black')\n",
    "\n",
    "# Fit\n",
    "ax.errorbar(t_left[1], s_data[1] , yerr = s_sigma, fmt='k.', elinewidth = 1.2, ms = 9, label = 'Data')\n",
    "ax.plot(x_fit, y_fit, label = 'Pol. fit', c = 'r', lw = 1.2)\n",
    "ax.set_ylabel('Position [?]', fontsize = 20)\n",
    "ax.legend(fontsize = 16, loc = \"upper left\")\n",
    "fig.text(0.5, 0.06, 'Time [s]', ha = 'center', va = 'center', fontsize = 20)"
   ]
  }
 ],
 "metadata": {
  "kernelspec": {
   "display_name": "Python 3",
   "language": "python",
   "name": "python3"
  },
  "language_info": {
   "codemirror_mode": {
    "name": "ipython",
    "version": 3
   },
   "file_extension": ".py",
   "mimetype": "text/x-python",
   "name": "python",
   "nbconvert_exporter": "python",
   "pygments_lexer": "ipython3",
   "version": "3.8.3"
  },
  "vscode": {
   "interpreter": {
    "hash": "16c3c5ed1b31d1e072bf70199017199b2673bf50ceb35f0c4b4cd4c3eb400e55"
   }
  }
 },
 "nbformat": 4,
 "nbformat_minor": 2
}
